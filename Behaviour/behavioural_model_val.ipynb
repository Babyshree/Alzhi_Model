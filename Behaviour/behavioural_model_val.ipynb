{
 "cells": [
  {
   "cell_type": "code",
   "execution_count": 1,
   "id": "84dbd076",
   "metadata": {},
   "outputs": [],
   "source": [
    "import pandas as pd\n",
    "import joblib\n",
    "\n",
    "# Load the KNN model from the pickle file\n",
    "svm = joblib.load(r\"C:\\Users\\jbaby\\documents\\Final_yr_pro\\Practice\\Behaviour\\behavioral_model.pkl\")"
   ]
  },
  {
   "cell_type": "code",
   "execution_count": null,
   "id": "e746351c",
   "metadata": {},
<<<<<<< HEAD
   "outputs": [
    {
     "name": "stdout",
     "output_type": "stream",
     "text": [
      "Enter value for Date_Forget: 0\n",
      "Enter value for Face_Recall: 1\n",
      "Enter value for Task_Planning: 1\n",
      "Enter value for Word_Expression: 0\n",
      "Enter value for Mood_Shift: 1\n",
      "Enter value for Adaptability: 1\n",
      "Enter value for Solution_Finding: 0\n",
      "Enter value for Sleep_Patterns: 1\n",
      "Enter value for Appetite_Changes: 0\n",
      "Enter value for Interest_Enthusiasm: 0\n",
      "Enter value for Financial_Matters: 0\n",
      "Enter value for Tech_Adaptation: 1\n",
      "Enter value for Independence_Decrease: 0\n",
      "Enter value for Home_Navigation: 0\n"
     ]
    },
    {
     "data": {
      "text/plain": [
       "{'Date_Forget': 0,\n",
       " 'Face_Recall': 1,\n",
       " 'Task_Planning': 1,\n",
       " 'Word_Expression': 0,\n",
       " 'Mood_Shift': 1,\n",
       " 'Adaptability': 1,\n",
       " 'Solution_Finding': 0,\n",
       " 'Sleep_Patterns': 1,\n",
       " 'Appetite_Changes': 0,\n",
       " 'Interest_Enthusiasm': 0,\n",
       " 'Financial_Matters': 0,\n",
       " 'Tech_Adaptation': 1,\n",
       " 'Independence_Decrease': 0,\n",
       " 'Home_Navigation': 0}"
      ]
     },
     "execution_count": 2,
     "metadata": {},
     "output_type": "execute_result"
    }
   ],
=======
   "outputs": [],
>>>>>>> cf86946e6ba442eafc6463e4e583293a710dff3e
   "source": [
    "columns = ['Do you find yourself frequently forgetting names, dates, or recent events?','Have you experienced difficulties recalling familiar faces or locations?','Have you noticed any recent changes in your ability to plan or complete tasks?','Have you encountered challenges in expressing thoughts or finding the right words during conversations?','Have there been notable shifts in your mood or personality that you or others have observed?','Do you find it challenging to adapt to changes or unexpected situations?','Have you experienced a decline in your ability to find solutions to challenges?','Describe your typical sleep patterns and any recent changes in your sleep quality?','Have there been any notable changes in your appetite or eating patterns?','Have you noticed any changes in your enthusiasm for hobbies or interests you once enjoyed?','How well do you handle financial matters, such as budgeting or paying bills?','Have there been changes in your ability to learn and adapt to new technologies?','Have there been instances where you felt a decrease in your independence?','How well do you recognize and navigate within your home environment?']\n",
    "\n",
    "input_values = {}\n",
    "for column in columns:\n",
    "    value = input(f\"{column}\")\n",
    "    input_values[column] = int(value)  # Assuming the values are numeric, adjust data type if needed\n",
    "input_values\n"
   ]
  },
  {
   "cell_type": "code",
<<<<<<< HEAD
   "execution_count": 4,
=======
   "execution_count": 12,
>>>>>>> cf86946e6ba442eafc6463e4e583293a710dff3e
   "id": "588efb39",
   "metadata": {},
   "outputs": [
    {
     "name": "stdout",
     "output_type": "stream",
     "text": [
      "Predicted Output: Yes\n"
     ]
    },
    {
     "name": "stderr",
     "output_type": "stream",
     "text": [
      "C:\\Users\\jbaby\\AppData\\Roaming\\Python\\Python311\\site-packages\\sklearn\\base.py:493: UserWarning: X does not have valid feature names, but SVC was fitted with feature names\n",
      "  warnings.warn(\n"
     ]
    }
   ],
   "source": [
    "prediction = svm.predict([list(input_values.values())])\n",
    "print(\"Predicted Output:\", prediction[0])\n"
   ]
  },
  {
   "cell_type": "code",
   "execution_count": null,
   "id": "44180df8",
   "metadata": {},
   "outputs": [],
   "source": [
    "# 0\t1\t1\t0\t1\t1\t0\t1\t0\t0\t0\t1\t0\t0\tNo\n",
    "# 2\t0\t0\t1\t0\t1\t0\t0\t0\t1\t1\t0\t0\t0\tYes"
   ]
  }
 ],
 "metadata": {
  "kernelspec": {
   "display_name": "Python 3 (ipykernel)",
   "language": "python",
   "name": "python3"
  },
  "language_info": {
   "codemirror_mode": {
    "name": "ipython",
    "version": 3
   },
   "file_extension": ".py",
   "mimetype": "text/x-python",
   "name": "python",
   "nbconvert_exporter": "python",
   "pygments_lexer": "ipython3",
   "version": "3.11.5"
  }
 },
 "nbformat": 4,
 "nbformat_minor": 5
}
